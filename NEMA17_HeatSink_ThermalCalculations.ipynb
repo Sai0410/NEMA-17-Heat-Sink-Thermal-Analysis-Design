{
  "nbformat": 4,
  "nbformat_minor": 0,
  "metadata": {
    "colab": {
      "provenance": []
    },
    "kernelspec": {
      "name": "python3",
      "display_name": "Python 3"
    },
    "language_info": {
      "name": "python"
    }
  },
  "cells": [
    {
      "cell_type": "code",
      "execution_count": 10,
      "metadata": {
        "colab": {
          "base_uri": "https://localhost:8080/"
        },
        "id": "Inaj0mSf3XJf",
        "outputId": "888ed12c-b75d-4b67-80e0-76799874b36d"
      },
      "outputs": [
        {
          "output_type": "stream",
          "name": "stdout",
          "text": [
            "Power: 18.0\n",
            "Power Dissipation (Q) : 3.6\n",
            "Reynolds Number : 2662.887675807591\n",
            "Nusselt Number: 11.31\n",
            "Heat Transfer Coefficient (h): 39.87 W/m²·K\n",
            "Required Surface Area: 0.00258 m²\n",
            "Actual Fin Surface Area: 0.001693 m²\n",
            "Expected Motor Temperature: 78.32 °C\n",
            "Fan Power Consumption: 0.6 W\n"
          ]
        }
      ],
      "source": [
        "import math\n",
        "\n",
        "voltage = 12            #V\n",
        "current = 1.5           # A\n",
        "efficiency = 0.8        # 80% efficient\n",
        "ambient_temp = 25       # °C\n",
        "T_max_motor = 60        # °C safe operating temp\n",
        "\n",
        "fan_voltage = 12        # V\n",
        "fan_current = 0.05      # A\n",
        "\n",
        "rho_air = 1.1845        # kg/m^3\n",
        "k_air = 0.025969        # W/m·K\n",
        "nu_air = 1.5571e-5      # m^2/s\n",
        "Pr = 0.71465            # Prandtl number\n",
        "\n",
        "N = 34 # Number of fins\n",
        "fin_thickness = 0.0015   # m\n",
        "air_gap = 0.001          # m\n",
        "fin_pitch = fin_thickness + air_gap\n",
        "\n",
        "base_thickness = 0.004          # m (4 mm)\n",
        "inner_radius = 0.0186           # m (ID)\n",
        "outer_radius = 0.040            # m (OD)\n",
        "fin_radial_length = 0.009206    # m\n",
        "fin_height = 0.0166             # m\n",
        "\n",
        "\n",
        "V = 5.63 # m/s (estimate)\n",
        "\n",
        "power = voltage * current\n",
        "print(\"Power:\", power)\n",
        "\n",
        "Q_loss = power * (1 - efficiency) # heat generated\n",
        "print(\"Power Dissipation (Q) :\",  round(Q_loss, 1))\n",
        "\n",
        "Dh = 2 * ((air_gap * fin_radial_length) / (air_gap + fin_thickness))\n",
        "Re = (V * Dh) / nu_air\n",
        "print(\"Reynolds Number :\", Re)\n",
        "\n",
        "Nu = 0.023 * (Re**(4/5)) * (Pr**(1/3))\n",
        "h = (Nu * k_air) / Dh\n",
        "print(f\"Nusselt Number: {round(Nu, 2)}\")\n",
        "print(f\"Heat Transfer Coefficient (h): {round(h, 2)} W/m²·K\")\n",
        "\n",
        "delta_T = T_max_motor - ambient_temp\n",
        "A_required = Q_loss / (h * delta_T)\n",
        "print(f\"Required Surface Area: {round(A_required, 6)} m²\")\n",
        "\n",
        "A_actual = 2 * N * fin_thickness * fin_height\n",
        "print(f\"Actual Fin Surface Area: {round(A_actual, 6)} m²\")\n",
        "\n",
        "T_actual = ambient_temp + (Q_loss / (h * A_actual))\n",
        "print(f\"Expected Motor Temperature: {round(T_actual, 2)} °C\") #estimate actual motor temp with current design\n",
        "\n",
        "fan_power = fan_voltage * fan_current\n",
        "print(f\"Fan Power Consumption: {round(fan_power, 2)} W\") #fan power estimate\n"
      ]
    },
    {
      "cell_type": "code",
      "source": [],
      "metadata": {
        "id": "vCAT0Knx3hHd"
      },
      "execution_count": null,
      "outputs": []
    }
  ]
}